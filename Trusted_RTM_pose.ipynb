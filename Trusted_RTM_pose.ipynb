{
  "nbformat": 4,
  "nbformat_minor": 0,
  "metadata": {
    "colab": {
      "provenance": [],
      "authorship_tag": "ABX9TyPWMFUxcgMxB6GxzqbzT/yK",
      "include_colab_link": true
    },
    "kernelspec": {
      "name": "python3",
      "display_name": "Python 3"
    },
    "language_info": {
      "name": "python"
    }
  },
  "cells": [
    {
      "cell_type": "markdown",
      "metadata": {
        "id": "view-in-github",
        "colab_type": "text"
      },
      "source": [
        "<a href=\"https://colab.research.google.com/github/Shalini-Vasudevan/UPS_motion/blob/main/Trusted_RTM_pose.ipynb\" target=\"_parent\"><img src=\"https://colab.research.google.com/assets/colab-badge.svg\" alt=\"Open In Colab\"/></a>"
      ]
    },
    {
      "cell_type": "code",
      "source": [
        "!git clone https://github.com/Tau-J/rtmlib.git"
      ],
      "metadata": {
        "colab": {
          "base_uri": "https://localhost:8080/"
        },
        "id": "dGIIawFRflwW",
        "outputId": "71cff329-c38d-421e-e965-ae4e557bc65e"
      },
      "execution_count": 1,
      "outputs": [
        {
          "output_type": "stream",
          "name": "stdout",
          "text": [
            "Cloning into 'rtmlib'...\n",
            "remote: Enumerating objects: 568, done.\u001b[K\n",
            "remote: Counting objects: 100% (155/155), done.\u001b[K\n",
            "remote: Compressing objects: 100% (33/33), done.\u001b[K\n",
            "remote: Total 568 (delta 136), reused 122 (delta 122), pack-reused 413 (from 1)\u001b[K\n",
            "Receiving objects: 100% (568/568), 3.24 MiB | 18.02 MiB/s, done.\n",
            "Resolving deltas: 100% (367/367), done.\n"
          ]
        }
      ]
    },
    {
      "cell_type": "code",
      "source": [
        "!pip install rtmlib -i https://pypi.org/simple"
      ],
      "metadata": {
        "colab": {
          "base_uri": "https://localhost:8080/"
        },
        "id": "Bh9aOGn4f23w",
        "outputId": "da06b2ae-82c8-4cca-c1c0-88797a8441e5"
      },
      "execution_count": 2,
      "outputs": [
        {
          "output_type": "stream",
          "name": "stdout",
          "text": [
            "Collecting rtmlib\n",
            "  Downloading rtmlib-0.0.13-py3-none-any.whl.metadata (17 kB)\n",
            "Downloading rtmlib-0.0.13-py3-none-any.whl (48 kB)\n",
            "\u001b[?25l   \u001b[90m━━━━━━━━━━━━━━━━━━━━━━━━━━━━━━━━━━━━━━━━\u001b[0m \u001b[32m0.0/48.3 kB\u001b[0m \u001b[31m?\u001b[0m eta \u001b[36m-:--:--\u001b[0m\r\u001b[2K   \u001b[90m━━━━━━━━━━━━━━━━━━━━━━━━━━━━━━━━━━━━━━━━\u001b[0m \u001b[32m48.3/48.3 kB\u001b[0m \u001b[31m1.9 MB/s\u001b[0m eta \u001b[36m0:00:00\u001b[0m\n",
            "\u001b[?25hInstalling collected packages: rtmlib\n",
            "Successfully installed rtmlib-0.0.13\n"
          ]
        }
      ]
    },
    {
      "cell_type": "code",
      "source": [
        "%cd rtmlib"
      ],
      "metadata": {
        "colab": {
          "base_uri": "https://localhost:8080/"
        },
        "id": "d1HpLlrwgCmc",
        "outputId": "26ddaae2-09f9-40b7-9b0d-f9b5171bd9ac"
      },
      "execution_count": 3,
      "outputs": [
        {
          "output_type": "stream",
          "name": "stdout",
          "text": [
            "/content/rtmlib\n"
          ]
        }
      ]
    },
    {
      "cell_type": "code",
      "source": [
        "!pip install -r requirements.txt"
      ],
      "metadata": {
        "colab": {
          "base_uri": "https://localhost:8080/"
        },
        "id": "xzW2FtGugSnE",
        "outputId": "fdea22b5-349a-4009-8518-8ef110183b81"
      },
      "execution_count": 4,
      "outputs": [
        {
          "output_type": "stream",
          "name": "stdout",
          "text": [
            "Requirement already satisfied: numpy in /usr/local/lib/python3.12/dist-packages (from -r requirements.txt (line 1)) (2.0.2)\n",
            "Collecting onnxruntime (from -r requirements.txt (line 2))\n",
            "  Downloading onnxruntime-1.23.0-cp312-cp312-manylinux_2_27_x86_64.manylinux_2_28_x86_64.whl.metadata (4.9 kB)\n",
            "Requirement already satisfied: opencv-contrib-python in /usr/local/lib/python3.12/dist-packages (from -r requirements.txt (line 3)) (4.12.0.88)\n",
            "Requirement already satisfied: opencv-python in /usr/local/lib/python3.12/dist-packages (from -r requirements.txt (line 4)) (4.12.0.88)\n",
            "Requirement already satisfied: tqdm in /usr/local/lib/python3.12/dist-packages (from -r requirements.txt (line 5)) (4.67.1)\n",
            "Collecting coloredlogs (from onnxruntime->-r requirements.txt (line 2))\n",
            "  Downloading coloredlogs-15.0.1-py2.py3-none-any.whl.metadata (12 kB)\n",
            "Requirement already satisfied: flatbuffers in /usr/local/lib/python3.12/dist-packages (from onnxruntime->-r requirements.txt (line 2)) (25.9.23)\n",
            "Requirement already satisfied: packaging in /usr/local/lib/python3.12/dist-packages (from onnxruntime->-r requirements.txt (line 2)) (25.0)\n",
            "Requirement already satisfied: protobuf in /usr/local/lib/python3.12/dist-packages (from onnxruntime->-r requirements.txt (line 2)) (5.29.5)\n",
            "Requirement already satisfied: sympy in /usr/local/lib/python3.12/dist-packages (from onnxruntime->-r requirements.txt (line 2)) (1.13.3)\n",
            "Collecting humanfriendly>=9.1 (from coloredlogs->onnxruntime->-r requirements.txt (line 2))\n",
            "  Downloading humanfriendly-10.0-py2.py3-none-any.whl.metadata (9.2 kB)\n",
            "Requirement already satisfied: mpmath<1.4,>=1.1.0 in /usr/local/lib/python3.12/dist-packages (from sympy->onnxruntime->-r requirements.txt (line 2)) (1.3.0)\n",
            "Downloading onnxruntime-1.23.0-cp312-cp312-manylinux_2_27_x86_64.manylinux_2_28_x86_64.whl (17.3 MB)\n",
            "\u001b[2K   \u001b[90m━━━━━━━━━━━━━━━━━━━━━━━━━━━━━━━━━━━━━━━━\u001b[0m \u001b[32m17.3/17.3 MB\u001b[0m \u001b[31m75.4 MB/s\u001b[0m eta \u001b[36m0:00:00\u001b[0m\n",
            "\u001b[?25hDownloading coloredlogs-15.0.1-py2.py3-none-any.whl (46 kB)\n",
            "\u001b[2K   \u001b[90m━━━━━━━━━━━━━━━━━━━━━━━━━━━━━━━━━━━━━━━━\u001b[0m \u001b[32m46.0/46.0 kB\u001b[0m \u001b[31m3.0 MB/s\u001b[0m eta \u001b[36m0:00:00\u001b[0m\n",
            "\u001b[?25hDownloading humanfriendly-10.0-py2.py3-none-any.whl (86 kB)\n",
            "\u001b[2K   \u001b[90m━━━━━━━━━━━━━━━━━━━━━━━━━━━━━━━━━━━━━━━━\u001b[0m \u001b[32m86.8/86.8 kB\u001b[0m \u001b[31m5.2 MB/s\u001b[0m eta \u001b[36m0:00:00\u001b[0m\n",
            "\u001b[?25hInstalling collected packages: humanfriendly, coloredlogs, onnxruntime\n",
            "Successfully installed coloredlogs-15.0.1 humanfriendly-10.0 onnxruntime-1.23.0\n"
          ]
        }
      ]
    },
    {
      "cell_type": "code",
      "source": [
        "!pip install -e ."
      ],
      "metadata": {
        "colab": {
          "base_uri": "https://localhost:8080/"
        },
        "id": "JZh09Iy5gWZn",
        "outputId": "edcded4e-bd9b-4928-aeb2-22411c4bf160"
      },
      "execution_count": 5,
      "outputs": [
        {
          "output_type": "stream",
          "name": "stdout",
          "text": [
            "Obtaining file:///content/rtmlib\n",
            "  Preparing metadata (setup.py) ... \u001b[?25l\u001b[?25hdone\n",
            "Installing collected packages: rtmlib\n",
            "  Attempting uninstall: rtmlib\n",
            "    Found existing installation: rtmlib 0.0.13\n",
            "    Uninstalling rtmlib-0.0.13:\n",
            "      Successfully uninstalled rtmlib-0.0.13\n",
            "  Running setup.py develop for rtmlib\n",
            "Successfully installed rtmlib-0.0.13\n"
          ]
        }
      ]
    },
    {
      "cell_type": "code",
      "source": [
        "!pip install gradio"
      ],
      "metadata": {
        "colab": {
          "base_uri": "https://localhost:8080/"
        },
        "id": "CVWlmcibgkBU",
        "outputId": "43b97fa5-7aae-419f-ae04-ffe7815eddf1"
      },
      "execution_count": 6,
      "outputs": [
        {
          "output_type": "stream",
          "name": "stdout",
          "text": [
            "Requirement already satisfied: gradio in /usr/local/lib/python3.12/dist-packages (5.47.2)\n",
            "Requirement already satisfied: aiofiles<25.0,>=22.0 in /usr/local/lib/python3.12/dist-packages (from gradio) (24.1.0)\n",
            "Requirement already satisfied: anyio<5.0,>=3.0 in /usr/local/lib/python3.12/dist-packages (from gradio) (4.11.0)\n",
            "Requirement already satisfied: brotli>=1.1.0 in /usr/local/lib/python3.12/dist-packages (from gradio) (1.1.0)\n",
            "Requirement already satisfied: fastapi<1.0,>=0.115.2 in /usr/local/lib/python3.12/dist-packages (from gradio) (0.118.0)\n",
            "Requirement already satisfied: ffmpy in /usr/local/lib/python3.12/dist-packages (from gradio) (0.6.1)\n",
            "Requirement already satisfied: gradio-client==1.13.3 in /usr/local/lib/python3.12/dist-packages (from gradio) (1.13.3)\n",
            "Requirement already satisfied: groovy~=0.1 in /usr/local/lib/python3.12/dist-packages (from gradio) (0.1.2)\n",
            "Requirement already satisfied: httpx<1.0,>=0.24.1 in /usr/local/lib/python3.12/dist-packages (from gradio) (0.28.1)\n",
            "Requirement already satisfied: huggingface-hub<2.0,>=0.33.5 in /usr/local/lib/python3.12/dist-packages (from gradio) (0.35.3)\n",
            "Requirement already satisfied: jinja2<4.0 in /usr/local/lib/python3.12/dist-packages (from gradio) (3.1.6)\n",
            "Requirement already satisfied: markupsafe<4.0,>=2.0 in /usr/local/lib/python3.12/dist-packages (from gradio) (3.0.3)\n",
            "Requirement already satisfied: numpy<3.0,>=1.0 in /usr/local/lib/python3.12/dist-packages (from gradio) (2.0.2)\n",
            "Requirement already satisfied: orjson~=3.0 in /usr/local/lib/python3.12/dist-packages (from gradio) (3.11.3)\n",
            "Requirement already satisfied: packaging in /usr/local/lib/python3.12/dist-packages (from gradio) (25.0)\n",
            "Requirement already satisfied: pandas<3.0,>=1.0 in /usr/local/lib/python3.12/dist-packages (from gradio) (2.2.2)\n",
            "Requirement already satisfied: pillow<12.0,>=8.0 in /usr/local/lib/python3.12/dist-packages (from gradio) (11.3.0)\n",
            "Requirement already satisfied: pydantic<2.12,>=2.0 in /usr/local/lib/python3.12/dist-packages (from gradio) (2.11.9)\n",
            "Requirement already satisfied: pydub in /usr/local/lib/python3.12/dist-packages (from gradio) (0.25.1)\n",
            "Requirement already satisfied: python-multipart>=0.0.18 in /usr/local/lib/python3.12/dist-packages (from gradio) (0.0.20)\n",
            "Requirement already satisfied: pyyaml<7.0,>=5.0 in /usr/local/lib/python3.12/dist-packages (from gradio) (6.0.3)\n",
            "Requirement already satisfied: ruff>=0.9.3 in /usr/local/lib/python3.12/dist-packages (from gradio) (0.13.2)\n",
            "Requirement already satisfied: safehttpx<0.2.0,>=0.1.6 in /usr/local/lib/python3.12/dist-packages (from gradio) (0.1.6)\n",
            "Requirement already satisfied: semantic-version~=2.0 in /usr/local/lib/python3.12/dist-packages (from gradio) (2.10.0)\n",
            "Requirement already satisfied: starlette<1.0,>=0.40.0 in /usr/local/lib/python3.12/dist-packages (from gradio) (0.48.0)\n",
            "Requirement already satisfied: tomlkit<0.14.0,>=0.12.0 in /usr/local/lib/python3.12/dist-packages (from gradio) (0.13.3)\n",
            "Requirement already satisfied: typer<1.0,>=0.12 in /usr/local/lib/python3.12/dist-packages (from gradio) (0.19.2)\n",
            "Requirement already satisfied: typing-extensions~=4.0 in /usr/local/lib/python3.12/dist-packages (from gradio) (4.15.0)\n",
            "Requirement already satisfied: uvicorn>=0.14.0 in /usr/local/lib/python3.12/dist-packages (from gradio) (0.37.0)\n",
            "Requirement already satisfied: fsspec in /usr/local/lib/python3.12/dist-packages (from gradio-client==1.13.3->gradio) (2025.3.0)\n",
            "Requirement already satisfied: websockets<16.0,>=13.0 in /usr/local/lib/python3.12/dist-packages (from gradio-client==1.13.3->gradio) (15.0.1)\n",
            "Requirement already satisfied: idna>=2.8 in /usr/local/lib/python3.12/dist-packages (from anyio<5.0,>=3.0->gradio) (3.10)\n",
            "Requirement already satisfied: sniffio>=1.1 in /usr/local/lib/python3.12/dist-packages (from anyio<5.0,>=3.0->gradio) (1.3.1)\n",
            "Requirement already satisfied: certifi in /usr/local/lib/python3.12/dist-packages (from httpx<1.0,>=0.24.1->gradio) (2025.8.3)\n",
            "Requirement already satisfied: httpcore==1.* in /usr/local/lib/python3.12/dist-packages (from httpx<1.0,>=0.24.1->gradio) (1.0.9)\n",
            "Requirement already satisfied: h11>=0.16 in /usr/local/lib/python3.12/dist-packages (from httpcore==1.*->httpx<1.0,>=0.24.1->gradio) (0.16.0)\n",
            "Requirement already satisfied: filelock in /usr/local/lib/python3.12/dist-packages (from huggingface-hub<2.0,>=0.33.5->gradio) (3.19.1)\n",
            "Requirement already satisfied: requests in /usr/local/lib/python3.12/dist-packages (from huggingface-hub<2.0,>=0.33.5->gradio) (2.32.4)\n",
            "Requirement already satisfied: tqdm>=4.42.1 in /usr/local/lib/python3.12/dist-packages (from huggingface-hub<2.0,>=0.33.5->gradio) (4.67.1)\n",
            "Requirement already satisfied: hf-xet<2.0.0,>=1.1.3 in /usr/local/lib/python3.12/dist-packages (from huggingface-hub<2.0,>=0.33.5->gradio) (1.1.10)\n",
            "Requirement already satisfied: python-dateutil>=2.8.2 in /usr/local/lib/python3.12/dist-packages (from pandas<3.0,>=1.0->gradio) (2.9.0.post0)\n",
            "Requirement already satisfied: pytz>=2020.1 in /usr/local/lib/python3.12/dist-packages (from pandas<3.0,>=1.0->gradio) (2025.2)\n",
            "Requirement already satisfied: tzdata>=2022.7 in /usr/local/lib/python3.12/dist-packages (from pandas<3.0,>=1.0->gradio) (2025.2)\n",
            "Requirement already satisfied: annotated-types>=0.6.0 in /usr/local/lib/python3.12/dist-packages (from pydantic<2.12,>=2.0->gradio) (0.7.0)\n",
            "Requirement already satisfied: pydantic-core==2.33.2 in /usr/local/lib/python3.12/dist-packages (from pydantic<2.12,>=2.0->gradio) (2.33.2)\n",
            "Requirement already satisfied: typing-inspection>=0.4.0 in /usr/local/lib/python3.12/dist-packages (from pydantic<2.12,>=2.0->gradio) (0.4.2)\n",
            "Requirement already satisfied: click>=8.0.0 in /usr/local/lib/python3.12/dist-packages (from typer<1.0,>=0.12->gradio) (8.3.0)\n",
            "Requirement already satisfied: shellingham>=1.3.0 in /usr/local/lib/python3.12/dist-packages (from typer<1.0,>=0.12->gradio) (1.5.4)\n",
            "Requirement already satisfied: rich>=10.11.0 in /usr/local/lib/python3.12/dist-packages (from typer<1.0,>=0.12->gradio) (13.9.4)\n",
            "Requirement already satisfied: six>=1.5 in /usr/local/lib/python3.12/dist-packages (from python-dateutil>=2.8.2->pandas<3.0,>=1.0->gradio) (1.17.0)\n",
            "Requirement already satisfied: markdown-it-py>=2.2.0 in /usr/local/lib/python3.12/dist-packages (from rich>=10.11.0->typer<1.0,>=0.12->gradio) (4.0.0)\n",
            "Requirement already satisfied: pygments<3.0.0,>=2.13.0 in /usr/local/lib/python3.12/dist-packages (from rich>=10.11.0->typer<1.0,>=0.12->gradio) (2.19.2)\n",
            "Requirement already satisfied: charset_normalizer<4,>=2 in /usr/local/lib/python3.12/dist-packages (from requests->huggingface-hub<2.0,>=0.33.5->gradio) (3.4.3)\n",
            "Requirement already satisfied: urllib3<3,>=1.21.1 in /usr/local/lib/python3.12/dist-packages (from requests->huggingface-hub<2.0,>=0.33.5->gradio) (2.5.0)\n",
            "Requirement already satisfied: mdurl~=0.1 in /usr/local/lib/python3.12/dist-packages (from markdown-it-py>=2.2.0->rich>=10.11.0->typer<1.0,>=0.12->gradio) (0.1.2)\n"
          ]
        }
      ]
    },
    {
      "cell_type": "code",
      "source": [
        "!pip install -r requirements.txt\n"
      ],
      "metadata": {
        "colab": {
          "base_uri": "https://localhost:8080/"
        },
        "id": "WBAujDHRiIV9",
        "outputId": "4ac88266-4258-4fc9-e7cf-5fbc54d4178c"
      },
      "execution_count": 8,
      "outputs": [
        {
          "output_type": "stream",
          "name": "stdout",
          "text": [
            "Requirement already satisfied: numpy in /usr/local/lib/python3.12/dist-packages (from -r requirements.txt (line 1)) (2.0.2)\n",
            "Requirement already satisfied: onnxruntime in /usr/local/lib/python3.12/dist-packages (from -r requirements.txt (line 2)) (1.23.0)\n",
            "Requirement already satisfied: opencv-contrib-python in /usr/local/lib/python3.12/dist-packages (from -r requirements.txt (line 3)) (4.12.0.88)\n",
            "Requirement already satisfied: opencv-python in /usr/local/lib/python3.12/dist-packages (from -r requirements.txt (line 4)) (4.12.0.88)\n",
            "Requirement already satisfied: tqdm in /usr/local/lib/python3.12/dist-packages (from -r requirements.txt (line 5)) (4.67.1)\n",
            "Requirement already satisfied: coloredlogs in /usr/local/lib/python3.12/dist-packages (from onnxruntime->-r requirements.txt (line 2)) (15.0.1)\n",
            "Requirement already satisfied: flatbuffers in /usr/local/lib/python3.12/dist-packages (from onnxruntime->-r requirements.txt (line 2)) (25.9.23)\n",
            "Requirement already satisfied: packaging in /usr/local/lib/python3.12/dist-packages (from onnxruntime->-r requirements.txt (line 2)) (25.0)\n",
            "Requirement already satisfied: protobuf in /usr/local/lib/python3.12/dist-packages (from onnxruntime->-r requirements.txt (line 2)) (5.29.5)\n",
            "Requirement already satisfied: sympy in /usr/local/lib/python3.12/dist-packages (from onnxruntime->-r requirements.txt (line 2)) (1.13.3)\n",
            "Requirement already satisfied: humanfriendly>=9.1 in /usr/local/lib/python3.12/dist-packages (from coloredlogs->onnxruntime->-r requirements.txt (line 2)) (10.0)\n",
            "Requirement already satisfied: mpmath<1.4,>=1.1.0 in /usr/local/lib/python3.12/dist-packages (from sympy->onnxruntime->-r requirements.txt (line 2)) (1.3.0)\n"
          ]
        }
      ]
    },
    {
      "cell_type": "code",
      "source": [
        "!python wholebody_demo.py"
      ],
      "metadata": {
        "colab": {
          "base_uri": "https://localhost:8080/"
        },
        "id": "VQP0OvW-go6E",
        "outputId": "1a1756d0-dfaf-4052-ddf5-52323f0f59a4"
      },
      "execution_count": 18,
      "outputs": [
        {
          "output_type": "stream",
          "name": "stdout",
          "text": [
            "load /root/.cache/rtmlib/hub/checkpoints/yolox_m_8xb8-300e_humanart-c2c7a14a.onnx with onnxruntime backend\n",
            "\u001b[0;93m2025-10-07 12:43:13.817539235 [W:onnxruntime:, graph.cc:4859 CleanUnusedInitializersAndNodeArgs] Removing initializer '1701'. It is not used by any node and should be removed from the model.\u001b[m\n",
            "\u001b[0;93m2025-10-07 12:43:13.817616130 [W:onnxruntime:, graph.cc:4859 CleanUnusedInitializersAndNodeArgs] Removing initializer '1706'. It is not used by any node and should be removed from the model.\u001b[m\n",
            "\u001b[0;93m2025-10-07 12:43:13.817765428 [W:onnxruntime:, graph.cc:4859 CleanUnusedInitializersAndNodeArgs] Removing initializer '1709'. It is not used by any node and should be removed from the model.\u001b[m\n",
            "load /root/.cache/rtmlib/hub/checkpoints/rtmw-dw-x-l_simcc-cocktail14_270e-384x288_20231122.onnx with onnxruntime backend\n",
            "🎥 Processing 207 frames...\n",
            "Frame 1/207 | Inference time: 9.291s\n",
            "Frame 2/207 | Inference time: 5.697s\n",
            "Frame 3/207 | Inference time: 6.621s\n",
            "Frame 4/207 | Inference time: 3.723s\n",
            "Frame 5/207 | Inference time: 3.884s\n",
            "Frame 6/207 | Inference time: 3.909s\n",
            "Frame 7/207 | Inference time: 3.718s\n",
            "Frame 8/207 | Inference time: 3.145s\n",
            "Frame 9/207 | Inference time: 2.927s\n",
            "Frame 10/207 | Inference time: 2.338s\n",
            "Frame 11/207 | Inference time: 1.884s\n",
            "Frame 12/207 | Inference time: 1.916s\n",
            "Frame 13/207 | Inference time: 1.904s\n",
            "Frame 14/207 | Inference time: 1.914s\n",
            "Frame 15/207 | Inference time: 2.064s\n",
            "Frame 16/207 | Inference time: 2.558s\n",
            "Frame 17/207 | Inference time: 1.831s\n",
            "Frame 18/207 | Inference time: 1.853s\n",
            "Frame 19/207 | Inference time: 1.866s\n",
            "Frame 20/207 | Inference time: 1.852s\n",
            "Frame 21/207 | Inference time: 1.869s\n",
            "Frame 22/207 | Inference time: 3.543s\n",
            "Frame 23/207 | Inference time: 2.450s\n",
            "Frame 24/207 | Inference time: 2.439s\n",
            "Frame 25/207 | Inference time: 2.488s\n",
            "Frame 26/207 | Inference time: 3.483s\n",
            "Frame 27/207 | Inference time: 2.994s\n",
            "Frame 28/207 | Inference time: 2.505s\n",
            "Frame 29/207 | Inference time: 2.568s\n",
            "Frame 30/207 | Inference time: 1.839s\n",
            "Frame 31/207 | Inference time: 2.059s\n",
            "Frame 32/207 | Inference time: 5.207s\n",
            "Frame 33/207 | Inference time: 3.168s\n",
            "Frame 34/207 | Inference time: 3.054s\n",
            "Frame 35/207 | Inference time: 4.002s\n",
            "Frame 36/207 | Inference time: 3.195s\n",
            "Frame 37/207 | Inference time: 3.747s\n",
            "Frame 38/207 | Inference time: 4.388s\n",
            "Frame 39/207 | Inference time: 3.551s\n",
            "Frame 40/207 | Inference time: 3.227s\n",
            "Frame 41/207 | Inference time: 3.829s\n",
            "Frame 42/207 | Inference time: 5.291s\n",
            "Frame 43/207 | Inference time: 4.360s\n",
            "Frame 44/207 | Inference time: 4.748s\n",
            "Frame 45/207 | Inference time: 4.142s\n",
            "Frame 46/207 | Inference time: 4.888s\n",
            "Frame 47/207 | Inference time: 5.352s\n",
            "Frame 48/207 | Inference time: 3.795s\n",
            "Frame 49/207 | Inference time: 3.790s\n",
            "Frame 50/207 | Inference time: 5.491s\n",
            "Frame 51/207 | Inference time: 4.576s\n",
            "Frame 52/207 | Inference time: 5.062s\n",
            "Frame 53/207 | Inference time: 5.663s\n",
            "Frame 54/207 | Inference time: 5.663s\n",
            "Frame 55/207 | Inference time: 6.447s\n",
            "Frame 56/207 | Inference time: 5.465s\n",
            "Frame 57/207 | Inference time: 5.892s\n",
            "Frame 58/207 | Inference time: 3.671s\n",
            "Frame 59/207 | Inference time: 1.907s\n",
            "Frame 60/207 | Inference time: 5.357s\n",
            "Frame 61/207 | Inference time: 5.413s\n",
            "Frame 62/207 | Inference time: 4.473s\n",
            "Frame 63/207 | Inference time: 4.829s\n",
            "Frame 64/207 | Inference time: 4.298s\n",
            "Frame 65/207 | Inference time: 3.667s\n",
            "Frame 66/207 | Inference time: 4.743s\n",
            "Frame 67/207 | Inference time: 3.149s\n",
            "Frame 68/207 | Inference time: 1.879s\n",
            "Frame 69/207 | Inference time: 3.698s\n",
            "Frame 70/207 | Inference time: 4.713s\n",
            "Frame 71/207 | Inference time: 5.468s\n",
            "Frame 72/207 | Inference time: 4.699s\n",
            "Frame 73/207 | Inference time: 7.357s\n",
            "Frame 74/207 | Inference time: 7.932s\n",
            "Frame 75/207 | Inference time: 8.288s\n",
            "Frame 76/207 | Inference time: 10.947s\n",
            "Frame 77/207 | Inference time: 9.467s\n",
            "Frame 78/207 | Inference time: 9.584s\n",
            "Frame 79/207 | Inference time: 6.810s\n",
            "Frame 80/207 | Inference time: 8.325s\n",
            "Frame 81/207 | Inference time: 10.943s\n",
            "Frame 82/207 | Inference time: 12.274s\n",
            "Frame 83/207 | Inference time: 9.185s\n",
            "Frame 84/207 | Inference time: 10.181s\n",
            "Frame 85/207 | Inference time: 12.005s\n",
            "Frame 86/207 | Inference time: 11.952s\n",
            "Frame 87/207 | Inference time: 12.085s\n",
            "Frame 88/207 | Inference time: 10.051s\n",
            "Frame 89/207 | Inference time: 10.794s\n",
            "Frame 90/207 | Inference time: 8.572s\n",
            "Frame 91/207 | Inference time: 11.591s\n",
            "Frame 92/207 | Inference time: 12.543s\n",
            "Frame 93/207 | Inference time: 13.140s\n",
            "Frame 94/207 | Inference time: 10.674s\n",
            "Frame 95/207 | Inference time: 11.911s\n",
            "Frame 96/207 | Inference time: 12.051s\n",
            "Frame 97/207 | Inference time: 10.786s\n",
            "Frame 98/207 | Inference time: 9.982s\n",
            "Frame 99/207 | Inference time: 10.060s\n",
            "Frame 100/207 | Inference time: 10.860s\n",
            "Frame 101/207 | Inference time: 10.736s\n",
            "Frame 102/207 | Inference time: 10.894s\n",
            "Frame 103/207 | Inference time: 10.940s\n",
            "Frame 104/207 | Inference time: 9.138s\n",
            "Frame 105/207 | Inference time: 9.803s\n",
            "Frame 106/207 | Inference time: 9.564s\n",
            "Frame 107/207 | Inference time: 10.006s\n",
            "Frame 108/207 | Inference time: 10.095s\n",
            "Frame 109/207 | Inference time: 10.082s\n",
            "Frame 110/207 | Inference time: 11.990s\n",
            "Frame 111/207 | Inference time: 11.353s\n",
            "Frame 112/207 | Inference time: 11.441s\n",
            "Frame 113/207 | Inference time: 11.469s\n",
            "Frame 114/207 | Inference time: 10.928s\n",
            "Frame 115/207 | Inference time: 9.819s\n",
            "Frame 116/207 | Inference time: 8.139s\n",
            "Frame 117/207 | Inference time: 9.542s\n",
            "Frame 118/207 | Inference time: 7.547s\n",
            "Frame 119/207 | Inference time: 7.403s\n",
            "Frame 120/207 | Inference time: 9.482s\n",
            "Frame 121/207 | Inference time: 9.002s\n",
            "Frame 122/207 | Inference time: 7.896s\n",
            "Frame 123/207 | Inference time: 8.973s\n",
            "Frame 124/207 | Inference time: 8.264s\n",
            "Frame 125/207 | Inference time: 6.265s\n",
            "Frame 126/207 | Inference time: 7.146s\n",
            "Frame 127/207 | Inference time: 6.416s\n",
            "Frame 128/207 | Inference time: 7.216s\n",
            "Frame 129/207 | Inference time: 6.394s\n",
            "Frame 130/207 | Inference time: 7.178s\n",
            "Frame 131/207 | Inference time: 5.123s\n",
            "Frame 132/207 | Inference time: 5.996s\n",
            "Frame 133/207 | Inference time: 1.859s\n",
            "Frame 134/207 | Inference time: 2.496s\n",
            "Frame 135/207 | Inference time: 1.880s\n",
            "Frame 136/207 | Inference time: 2.465s\n",
            "Frame 137/207 | Inference time: 4.722s\n",
            "Frame 138/207 | Inference time: 2.459s\n",
            "Frame 139/207 | Inference time: 3.040s\n",
            "Frame 140/207 | Inference time: 2.581s\n",
            "Frame 141/207 | Inference time: 5.921s\n",
            "Frame 142/207 | Inference time: 5.656s\n",
            "Frame 143/207 | Inference time: 6.670s\n",
            "Frame 144/207 | Inference time: 5.577s\n",
            "Frame 145/207 | Inference time: 5.845s\n",
            "Frame 146/207 | Inference time: 6.739s\n",
            "Frame 147/207 | Inference time: 8.277s\n",
            "Frame 148/207 | Inference time: 7.988s\n",
            "Frame 149/207 | Inference time: 3.954s\n",
            "Frame 150/207 | Inference time: 6.812s\n",
            "Frame 151/207 | Inference time: 8.496s\n",
            "Frame 152/207 | Inference time: 6.474s\n",
            "Frame 153/207 | Inference time: 8.915s\n",
            "Frame 154/207 | Inference time: 9.723s\n",
            "Frame 155/207 | Inference time: 15.270s\n",
            "Frame 156/207 | Inference time: 13.206s\n",
            "Frame 157/207 | Inference time: 15.433s\n",
            "Frame 158/207 | Inference time: 20.563s\n",
            "Frame 159/207 | Inference time: 19.666s\n",
            "Frame 160/207 | Inference time: 20.482s\n",
            "Frame 161/207 | Inference time: 23.184s\n",
            "Frame 162/207 | Inference time: 22.223s\n",
            "Frame 163/207 | Inference time: 27.632s\n",
            "Frame 164/207 | Inference time: 24.410s\n",
            "Frame 165/207 | Inference time: 23.318s\n",
            "Frame 166/207 | Inference time: 19.000s\n",
            "Frame 167/207 | Inference time: 11.471s\n",
            "Frame 168/207 | Inference time: 11.549s\n",
            "Frame 169/207 | Inference time: 15.474s\n",
            "Frame 170/207 | Inference time: 8.483s\n",
            "Frame 171/207 | Inference time: 7.442s\n",
            "Frame 172/207 | Inference time: 8.532s\n",
            "Frame 173/207 | Inference time: 9.601s\n",
            "Frame 174/207 | Inference time: 7.401s\n",
            "Frame 175/207 | Inference time: 9.786s\n",
            "Frame 176/207 | Inference time: 21.483s\n",
            "Frame 177/207 | Inference time: 20.234s\n",
            "Frame 178/207 | Inference time: 19.282s\n",
            "Frame 179/207 | Inference time: 16.505s\n",
            "Frame 180/207 | Inference time: 15.830s\n",
            "Frame 181/207 | Inference time: 13.409s\n",
            "Frame 182/207 | Inference time: 24.692s\n",
            "Frame 183/207 | Inference time: 26.237s\n",
            "Frame 184/207 | Inference time: 21.880s\n",
            "Frame 185/207 | Inference time: 16.724s\n",
            "✅ Saved output video to: output.mp4\n"
          ]
        }
      ]
    },
    {
      "cell_type": "code",
      "source": [
        "!python wholebody_demo.py"
      ],
      "metadata": {
        "colab": {
          "base_uri": "https://localhost:8080/"
        },
        "id": "tPvlhty64bDY",
        "outputId": "b55d6257-74e4-4275-cab4-1d1b8146bb63"
      },
      "execution_count": 19,
      "outputs": [
        {
          "output_type": "stream",
          "name": "stdout",
          "text": [
            "load /root/.cache/rtmlib/hub/checkpoints/yolox_m_8xb8-300e_humanart-c2c7a14a.onnx with onnxruntime backend\n",
            "\u001b[0;93m2025-10-07 13:35:00.470063584 [W:onnxruntime:, graph.cc:4859 CleanUnusedInitializersAndNodeArgs] Removing initializer '1701'. It is not used by any node and should be removed from the model.\u001b[m\n",
            "\u001b[0;93m2025-10-07 13:35:00.470121477 [W:onnxruntime:, graph.cc:4859 CleanUnusedInitializersAndNodeArgs] Removing initializer '1706'. It is not used by any node and should be removed from the model.\u001b[m\n",
            "\u001b[0;93m2025-10-07 13:35:00.470190761 [W:onnxruntime:, graph.cc:4859 CleanUnusedInitializersAndNodeArgs] Removing initializer '1709'. It is not used by any node and should be removed from the model.\u001b[m\n",
            "load /root/.cache/rtmlib/hub/checkpoints/rtmw-dw-x-l_simcc-cocktail14_270e-384x288_20231122.onnx with onnxruntime backend\n",
            "🎥 Processing 207 frames...\n",
            "Frame 1/207 | Inference time: 8.472s\n",
            "Frame 2/207 | Inference time: 6.607s\n",
            "Frame 3/207 | Inference time: 5.600s\n",
            "Frame 4/207 | Inference time: 4.726s\n",
            "Frame 5/207 | Inference time: 3.763s\n",
            "Frame 6/207 | Inference time: 3.095s\n",
            "Frame 7/207 | Inference time: 4.031s\n",
            "Frame 8/207 | Inference time: 3.956s\n",
            "Frame 9/207 | Inference time: 2.475s\n",
            "Frame 10/207 | Inference time: 1.832s\n",
            "Frame 11/207 | Inference time: 1.844s\n",
            "Frame 12/207 | Inference time: 1.904s\n",
            "Frame 13/207 | Inference time: 2.814s\n",
            "Frame 14/207 | Inference time: 1.837s\n",
            "Frame 15/207 | Inference time: 1.838s\n",
            "Frame 16/207 | Inference time: 1.826s\n",
            "Frame 17/207 | Inference time: 1.864s\n",
            "Frame 18/207 | Inference time: 1.836s\n",
            "Frame 19/207 | Inference time: 2.627s\n",
            "Frame 20/207 | Inference time: 2.334s\n",
            "Frame 21/207 | Inference time: 1.861s\n",
            "Frame 22/207 | Inference time: 2.424s\n",
            "Frame 23/207 | Inference time: 2.463s\n",
            "Frame 24/207 | Inference time: 2.614s\n",
            "Frame 25/207 | Inference time: 3.257s\n",
            "Frame 26/207 | Inference time: 3.170s\n",
            "Frame 27/207 | Inference time: 2.430s\n",
            "Frame 28/207 | Inference time: 2.528s\n",
            "Frame 29/207 | Inference time: 3.480s\n",
            "Frame 30/207 | Inference time: 1.820s\n",
            "Frame 31/207 | Inference time: 1.925s\n",
            "Frame 32/207 | Inference time: 4.435s\n",
            "Frame 33/207 | Inference time: 3.960s\n",
            "Frame 34/207 | Inference time: 3.493s\n",
            "Frame 35/207 | Inference time: 3.278s\n",
            "Frame 36/207 | Inference time: 3.253s\n",
            "Frame 37/207 | Inference time: 4.855s\n",
            "Frame 38/207 | Inference time: 3.813s\n",
            "Frame 39/207 | Inference time: 3.316s\n",
            "Frame 40/207 | Inference time: 4.327s\n",
            "Frame 41/207 | Inference time: 3.895s\n",
            "Frame 42/207 | Inference time: 4.561s\n",
            "Frame 43/207 | Inference time: 5.986s\n",
            "Frame 44/207 | Inference time: 4.379s\n",
            "Frame 45/207 | Inference time: 3.786s\n",
            "Frame 46/207 | Inference time: 6.065s\n",
            "Frame 47/207 | Inference time: 4.371s\n",
            "Frame 48/207 | Inference time: 4.338s\n",
            "Frame 49/207 | Inference time: 4.301s\n",
            "Frame 50/207 | Inference time: 4.381s\n",
            "Frame 51/207 | Inference time: 5.350s\n",
            "Frame 52/207 | Inference time: 5.152s\n",
            "Frame 53/207 | Inference time: 4.411s\n",
            "Frame 54/207 | Inference time: 6.581s\n",
            "Frame 55/207 | Inference time: 5.665s\n",
            "Frame 56/207 | Inference time: 6.779s\n",
            "Frame 57/207 | Inference time: 5.017s\n",
            "Frame 58/207 | Inference time: 4.554s\n",
            "Frame 59/207 | Inference time: 2.033s\n",
            "Frame 60/207 | Inference time: 4.893s\n",
            "Frame 61/207 | Inference time: 5.844s\n",
            "Frame 62/207 | Inference time: 4.513s\n",
            "Frame 63/207 | Inference time: 3.744s\n",
            "Frame 64/207 | Inference time: 5.385s\n",
            "Frame 65/207 | Inference time: 3.688s\n",
            "Frame 66/207 | Inference time: 3.745s\n",
            "Frame 67/207 | Inference time: 3.536s\n",
            "Frame 68/207 | Inference time: 2.364s\n",
            "Frame 69/207 | Inference time: 3.753s\n",
            "Frame 70/207 | Inference time: 3.745s\n",
            "Frame 71/207 | Inference time: 6.435s\n",
            "Frame 72/207 | Inference time: 4.389s\n",
            "Frame 73/207 | Inference time: 7.923s\n",
            "Frame 74/207 | Inference time: 7.085s\n",
            "Frame 75/207 | Inference time: 9.168s\n",
            "Frame 76/207 | Inference time: 11.004s\n",
            "Frame 77/207 | Inference time: 9.542s\n",
            "Frame 78/207 | Inference time: 8.658s\n",
            "Frame 79/207 | Inference time: 7.784s\n",
            "Frame 80/207 | Inference time: 7.740s\n",
            "Frame 81/207 | Inference time: 10.543s\n",
            "Frame 82/207 | Inference time: 12.007s\n",
            "Frame 83/207 | Inference time: 10.197s\n",
            "Frame 84/207 | Inference time: 10.009s\n",
            "Frame 85/207 | Inference time: 11.939s\n",
            "Frame 86/207 | Inference time: 12.186s\n",
            "Frame 87/207 | Inference time: 12.061s\n",
            "Frame 88/207 | Inference time: 9.198s\n",
            "Frame 89/207 | Inference time: 10.914s\n",
            "Frame 90/207 | Inference time: 9.523s\n",
            "Frame 91/207 | Inference time: 11.430s\n",
            "Frame 92/207 | Inference time: 12.802s\n",
            "Frame 93/207 | Inference time: 13.597s\n",
            "Frame 94/207 | Inference time: 11.027s\n",
            "Frame 95/207 | Inference time: 12.017s\n",
            "Frame 96/207 | Inference time: 11.957s\n",
            "Frame 97/207 | Inference time: 9.945s\n",
            "Frame 98/207 | Inference time: 10.264s\n",
            "Frame 99/207 | Inference time: 10.859s\n",
            "Frame 100/207 | Inference time: 10.728s\n",
            "Frame 101/207 | Inference time: 10.928s\n",
            "Frame 102/207 | Inference time: 10.947s\n",
            "Frame 103/207 | Inference time: 9.393s\n",
            "Frame 104/207 | Inference time: 10.435s\n",
            "Frame 105/207 | Inference time: 10.690s\n",
            "Frame 106/207 | Inference time: 9.522s\n",
            "Frame 107/207 | Inference time: 9.812s\n",
            "Frame 108/207 | Inference time: 9.990s\n",
            "Frame 109/207 | Inference time: 10.905s\n",
            "Frame 110/207 | Inference time: 12.337s\n",
            "Frame 111/207 | Inference time: 11.541s\n",
            "Frame 112/207 | Inference time: 11.587s\n",
            "Frame 113/207 | Inference time: 11.589s\n",
            "Frame 114/207 | Inference time: 10.983s\n",
            "Frame 115/207 | Inference time: 8.854s\n",
            "Frame 116/207 | Inference time: 9.165s\n",
            "Frame 117/207 | Inference time: 9.712s\n",
            "Frame 118/207 | Inference time: 6.933s\n",
            "Frame 119/207 | Inference time: 8.504s\n",
            "Frame 120/207 | Inference time: 9.724s\n",
            "Frame 121/207 | Inference time: 8.273s\n",
            "Frame 122/207 | Inference time: 9.171s\n",
            "Frame 123/207 | Inference time: 9.069s\n",
            "Frame 124/207 | Inference time: 7.439s\n",
            "Frame 125/207 | Inference time: 7.196s\n",
            "Frame 126/207 | Inference time: 6.667s\n",
            "Frame 127/207 | Inference time: 6.729s\n",
            "Frame 128/207 | Inference time: 7.163s\n",
            "Frame 129/207 | Inference time: 6.426s\n",
            "Frame 130/207 | Inference time: 7.405s\n",
            "Frame 131/207 | Inference time: 5.032s\n",
            "Frame 132/207 | Inference time: 5.366s\n",
            "Frame 133/207 | Inference time: 2.651s\n",
            "Frame 134/207 | Inference time: 2.471s\n",
            "Frame 135/207 | Inference time: 1.836s\n",
            "Frame 136/207 | Inference time: 2.520s\n",
            "Frame 137/207 | Inference time: 4.278s\n",
            "Frame 138/207 | Inference time: 2.920s\n",
            "Frame 139/207 | Inference time: 3.074s\n",
            "Frame 140/207 | Inference time: 2.489s\n",
            "Frame 141/207 | Inference time: 5.981s\n",
            "Frame 142/207 | Inference time: 5.706s\n",
            "Frame 143/207 | Inference time: 6.971s\n",
            "Frame 144/207 | Inference time: 5.651s\n",
            "Frame 145/207 | Inference time: 5.251s\n",
            "Frame 146/207 | Inference time: 7.511s\n",
            "Frame 147/207 | Inference time: 8.552s\n",
            "Frame 148/207 | Inference time: 8.301s\n",
            "Frame 149/207 | Inference time: 4.175s\n",
            "Frame 150/207 | Inference time: 6.766s\n",
            "Frame 151/207 | Inference time: 8.396s\n",
            "Frame 152/207 | Inference time: 6.274s\n",
            "Frame 153/207 | Inference time: 9.064s\n",
            "Frame 154/207 | Inference time: 9.533s\n",
            "Frame 155/207 | Inference time: 15.033s\n",
            "Frame 156/207 | Inference time: 13.157s\n",
            "Frame 157/207 | Inference time: 15.224s\n",
            "Frame 158/207 | Inference time: 20.245s\n",
            "Frame 159/207 | Inference time: 19.360s\n",
            "Frame 160/207 | Inference time: 20.444s\n",
            "Frame 161/207 | Inference time: 23.751s\n",
            "Frame 162/207 | Inference time: 22.307s\n",
            "Frame 163/207 | Inference time: 27.942s\n",
            "Frame 164/207 | Inference time: 24.576s\n",
            "Frame 165/207 | Inference time: 22.878s\n",
            "Frame 166/207 | Inference time: 19.459s\n",
            "Frame 167/207 | Inference time: 11.300s\n",
            "Frame 168/207 | Inference time: 11.456s\n",
            "Frame 169/207 | Inference time: 15.598s\n",
            "Frame 170/207 | Inference time: 8.033s\n",
            "Frame 171/207 | Inference time: 7.724s\n",
            "Frame 172/207 | Inference time: 8.302s\n",
            "Frame 173/207 | Inference time: 9.122s\n",
            "Frame 174/207 | Inference time: 7.988s\n",
            "Frame 175/207 | Inference time: 9.861s\n",
            "Frame 176/207 | Inference time: 21.140s\n",
            "Frame 177/207 | Inference time: 20.754s\n",
            "Frame 178/207 | Inference time: 19.245s\n",
            "Frame 179/207 | Inference time: 16.609s\n",
            "Frame 180/207 | Inference time: 15.631s\n",
            "Frame 181/207 | Inference time: 13.490s\n",
            "Frame 182/207 | Inference time: 24.424s\n",
            "Frame 183/207 | Inference time: 25.308s\n",
            "Frame 184/207 | Inference time: 21.787s\n",
            "Frame 185/207 | Inference time: 16.594s\n",
            "\n",
            "✅ Saved output video to: output.mp4\n",
            "🕒 Processed 185 frames in 1509.69 seconds\n",
            "⚡ Average FPS: 0.12\n"
          ]
        }
      ]
    }
  ]
}